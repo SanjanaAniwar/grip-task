{
 "cells": [
  {
   "cell_type": "markdown",
   "metadata": {},
   "source": [
    "# THE SPARKS FOUNDATION #GRIPMAR2021\n",
    "### NAME: Sanjana Aniwar\n",
    "### TASK4: Exploratory Data Analysis - Terrorism"
   ]
  },
  {
   "cell_type": "markdown",
   "metadata": {},
   "source": [
    "### Objectives :\n",
    "#### 1. Perform EDA on the given dataset\n",
    "#### 2. Try to find out the hot zone of terrorism.\n",
    "#### 3. Derive all the security issues and insights."
   ]
  },
  {
   "cell_type": "markdown",
   "metadata": {},
   "source": [
    "## Importing the Libraries"
   ]
  },
  {
   "cell_type": "code",
   "execution_count": 1,
   "metadata": {},
   "outputs": [],
   "source": [
    "import pandas as pd\n",
    "import numpy as np  \n",
    "import matplotlib.pyplot as plt  \n",
    "import seaborn as sns"
   ]
  },
  {
   "cell_type": "code",
   "execution_count": 4,
   "metadata": {},
   "outputs": [],
   "source": [
    "# to ignore the warnings\n",
    "import warnings\n",
    "warnings.filterwarnings(action=\"ignore\")"
   ]
  },
  {
   "cell_type": "code",
   "execution_count": 6,
   "metadata": {},
   "outputs": [
    {
     "data": {
      "text/html": [
       "<div>\n",
       "<style scoped>\n",
       "    .dataframe tbody tr th:only-of-type {\n",
       "        vertical-align: middle;\n",
       "    }\n",
       "\n",
       "    .dataframe tbody tr th {\n",
       "        vertical-align: top;\n",
       "    }\n",
       "\n",
       "    .dataframe thead th {\n",
       "        text-align: right;\n",
       "    }\n",
       "</style>\n",
       "<table border=\"1\" class=\"dataframe\">\n",
       "  <thead>\n",
       "    <tr style=\"text-align: right;\">\n",
       "      <th></th>\n",
       "      <th>eventid</th>\n",
       "      <th>iyear</th>\n",
       "      <th>imonth</th>\n",
       "      <th>iday</th>\n",
       "      <th>approxdate</th>\n",
       "      <th>extended</th>\n",
       "      <th>resolution</th>\n",
       "      <th>country</th>\n",
       "      <th>country_txt</th>\n",
       "      <th>region</th>\n",
       "      <th>...</th>\n",
       "      <th>addnotes</th>\n",
       "      <th>scite1</th>\n",
       "      <th>scite2</th>\n",
       "      <th>scite3</th>\n",
       "      <th>dbsource</th>\n",
       "      <th>INT_LOG</th>\n",
       "      <th>INT_IDEO</th>\n",
       "      <th>INT_MISC</th>\n",
       "      <th>INT_ANY</th>\n",
       "      <th>related</th>\n",
       "    </tr>\n",
       "  </thead>\n",
       "  <tbody>\n",
       "    <tr>\n",
       "      <th>0</th>\n",
       "      <td>197000000001</td>\n",
       "      <td>1970</td>\n",
       "      <td>7</td>\n",
       "      <td>2</td>\n",
       "      <td>NaN</td>\n",
       "      <td>0</td>\n",
       "      <td>NaN</td>\n",
       "      <td>58</td>\n",
       "      <td>Dominican Republic</td>\n",
       "      <td>2</td>\n",
       "      <td>...</td>\n",
       "      <td>NaN</td>\n",
       "      <td>NaN</td>\n",
       "      <td>NaN</td>\n",
       "      <td>NaN</td>\n",
       "      <td>PGIS</td>\n",
       "      <td>0</td>\n",
       "      <td>0</td>\n",
       "      <td>0</td>\n",
       "      <td>0</td>\n",
       "      <td>NaN</td>\n",
       "    </tr>\n",
       "    <tr>\n",
       "      <th>1</th>\n",
       "      <td>197000000002</td>\n",
       "      <td>1970</td>\n",
       "      <td>0</td>\n",
       "      <td>0</td>\n",
       "      <td>NaN</td>\n",
       "      <td>0</td>\n",
       "      <td>NaN</td>\n",
       "      <td>130</td>\n",
       "      <td>Mexico</td>\n",
       "      <td>1</td>\n",
       "      <td>...</td>\n",
       "      <td>NaN</td>\n",
       "      <td>NaN</td>\n",
       "      <td>NaN</td>\n",
       "      <td>NaN</td>\n",
       "      <td>PGIS</td>\n",
       "      <td>0</td>\n",
       "      <td>1</td>\n",
       "      <td>1</td>\n",
       "      <td>1</td>\n",
       "      <td>NaN</td>\n",
       "    </tr>\n",
       "    <tr>\n",
       "      <th>2</th>\n",
       "      <td>197001000001</td>\n",
       "      <td>1970</td>\n",
       "      <td>1</td>\n",
       "      <td>0</td>\n",
       "      <td>NaN</td>\n",
       "      <td>0</td>\n",
       "      <td>NaN</td>\n",
       "      <td>160</td>\n",
       "      <td>Philippines</td>\n",
       "      <td>5</td>\n",
       "      <td>...</td>\n",
       "      <td>NaN</td>\n",
       "      <td>NaN</td>\n",
       "      <td>NaN</td>\n",
       "      <td>NaN</td>\n",
       "      <td>PGIS</td>\n",
       "      <td>-9</td>\n",
       "      <td>-9</td>\n",
       "      <td>1</td>\n",
       "      <td>1</td>\n",
       "      <td>NaN</td>\n",
       "    </tr>\n",
       "    <tr>\n",
       "      <th>3</th>\n",
       "      <td>197001000002</td>\n",
       "      <td>1970</td>\n",
       "      <td>1</td>\n",
       "      <td>0</td>\n",
       "      <td>NaN</td>\n",
       "      <td>0</td>\n",
       "      <td>NaN</td>\n",
       "      <td>78</td>\n",
       "      <td>Greece</td>\n",
       "      <td>8</td>\n",
       "      <td>...</td>\n",
       "      <td>NaN</td>\n",
       "      <td>NaN</td>\n",
       "      <td>NaN</td>\n",
       "      <td>NaN</td>\n",
       "      <td>PGIS</td>\n",
       "      <td>-9</td>\n",
       "      <td>-9</td>\n",
       "      <td>1</td>\n",
       "      <td>1</td>\n",
       "      <td>NaN</td>\n",
       "    </tr>\n",
       "    <tr>\n",
       "      <th>4</th>\n",
       "      <td>197001000003</td>\n",
       "      <td>1970</td>\n",
       "      <td>1</td>\n",
       "      <td>0</td>\n",
       "      <td>NaN</td>\n",
       "      <td>0</td>\n",
       "      <td>NaN</td>\n",
       "      <td>101</td>\n",
       "      <td>Japan</td>\n",
       "      <td>4</td>\n",
       "      <td>...</td>\n",
       "      <td>NaN</td>\n",
       "      <td>NaN</td>\n",
       "      <td>NaN</td>\n",
       "      <td>NaN</td>\n",
       "      <td>PGIS</td>\n",
       "      <td>-9</td>\n",
       "      <td>-9</td>\n",
       "      <td>1</td>\n",
       "      <td>1</td>\n",
       "      <td>NaN</td>\n",
       "    </tr>\n",
       "  </tbody>\n",
       "</table>\n",
       "<p>5 rows × 135 columns</p>\n",
       "</div>"
      ],
      "text/plain": [
       "        eventid  iyear  imonth  iday approxdate  extended resolution  country  \\\n",
       "0  197000000001   1970       7     2        NaN         0        NaN       58   \n",
       "1  197000000002   1970       0     0        NaN         0        NaN      130   \n",
       "2  197001000001   1970       1     0        NaN         0        NaN      160   \n",
       "3  197001000002   1970       1     0        NaN         0        NaN       78   \n",
       "4  197001000003   1970       1     0        NaN         0        NaN      101   \n",
       "\n",
       "          country_txt  region  ... addnotes scite1 scite2  scite3  dbsource  \\\n",
       "0  Dominican Republic       2  ...      NaN    NaN    NaN     NaN      PGIS   \n",
       "1              Mexico       1  ...      NaN    NaN    NaN     NaN      PGIS   \n",
       "2         Philippines       5  ...      NaN    NaN    NaN     NaN      PGIS   \n",
       "3              Greece       8  ...      NaN    NaN    NaN     NaN      PGIS   \n",
       "4               Japan       4  ...      NaN    NaN    NaN     NaN      PGIS   \n",
       "\n",
       "   INT_LOG  INT_IDEO INT_MISC INT_ANY  related  \n",
       "0        0         0        0       0      NaN  \n",
       "1        0         1        1       1      NaN  \n",
       "2       -9        -9        1       1      NaN  \n",
       "3       -9        -9        1       1      NaN  \n",
       "4       -9        -9        1       1      NaN  \n",
       "\n",
       "[5 rows x 135 columns]"
      ]
     },
     "execution_count": 6,
     "metadata": {},
     "output_type": "execute_result"
    }
   ],
   "source": [
    "df=pd.read_csv(\"globalterrorismdb_0718dist.csv\", low_memory=False, encoding='latin-1')\n",
    "df.head()"
   ]
  },
  {
   "cell_type": "markdown",
   "metadata": {},
   "source": [
    "## Data Cleaning"
   ]
  },
  {
   "cell_type": "code",
   "execution_count": 7,
   "metadata": {},
   "outputs": [],
   "source": [
    "# renaming the columns\n",
    "df.rename(columns={'iyear':'Year','imonth':'Month','iday':'Day','country_txt':'Country','provstate':\n",
    "                  'State','region_txt':'Region','attacktype1_txt':'AttackType','target1':'Target',\n",
    "                  'nkill':'Killed','nwound':'Wounded','summary':'Summary','gname':'Group',\n",
    "                   'targtype1_txt':'TargetType','weaptype1_txt':'Weapon_type','motive':'Motive',\n",
    "                  'extended':'Extended'},inplace=True)"
   ]
  },
  {
   "cell_type": "code",
   "execution_count": 8,
   "metadata": {},
   "outputs": [
    {
     "data": {
      "text/plain": [
       "Index(['eventid', 'Year', 'Month', 'Day', 'approxdate', 'Extended',\n",
       "       'resolution', 'country', 'Country', 'region',\n",
       "       ...\n",
       "       'addnotes', 'scite1', 'scite2', 'scite3', 'dbsource', 'INT_LOG',\n",
       "       'INT_IDEO', 'INT_MISC', 'INT_ANY', 'related'],\n",
       "      dtype='object', length=135)"
      ]
     },
     "execution_count": 8,
     "metadata": {},
     "output_type": "execute_result"
    }
   ],
   "source": [
    "df.columns"
   ]
  },
  {
   "cell_type": "code",
   "execution_count": 9,
   "metadata": {},
   "outputs": [
    {
     "data": {
      "text/plain": [
       "(181691, 135)"
      ]
     },
     "execution_count": 9,
     "metadata": {},
     "output_type": "execute_result"
    }
   ],
   "source": [
    "df.shape"
   ]
  },
  {
   "cell_type": "code",
   "execution_count": 10,
   "metadata": {},
   "outputs": [
    {
     "name": "stdout",
     "output_type": "stream",
     "text": [
      "eventid            0\n",
      "Year               0\n",
      "Month              0\n",
      "Day                0\n",
      "approxdate    172452\n",
      "               ...  \n",
      "INT_LOG            0\n",
      "INT_IDEO           0\n",
      "INT_MISC           0\n",
      "INT_ANY            0\n",
      "related       156653\n",
      "Length: 135, dtype: int64\n"
     ]
    }
   ],
   "source": [
    "missing_values_count = df.isnull().sum()\n",
    "print (missing_values_count)"
   ]
  },
  {
   "cell_type": "code",
   "execution_count": 11,
   "metadata": {},
   "outputs": [
    {
     "name": "stdout",
     "output_type": "stream",
     "text": [
      "56.481718962414206\n"
     ]
    }
   ],
   "source": [
    "# how many total missing values do we have?\n",
    "total_cells = np.product(df.shape)\n",
    "total_missing = missing_values_count.sum()\n",
    "\n",
    "# percent of data that is missing\n",
    "percent_missing = (total_missing/total_cells) * 100\n",
    "print(percent_missing)"
   ]
  },
  {
   "cell_type": "code",
   "execution_count": 12,
   "metadata": {},
   "outputs": [
    {
     "data": {
      "text/html": [
       "<div>\n",
       "<style scoped>\n",
       "    .dataframe tbody tr th:only-of-type {\n",
       "        vertical-align: middle;\n",
       "    }\n",
       "\n",
       "    .dataframe tbody tr th {\n",
       "        vertical-align: top;\n",
       "    }\n",
       "\n",
       "    .dataframe thead th {\n",
       "        text-align: right;\n",
       "    }\n",
       "</style>\n",
       "<table border=\"1\" class=\"dataframe\">\n",
       "  <thead>\n",
       "    <tr style=\"text-align: right;\">\n",
       "      <th></th>\n",
       "      <th>eventid</th>\n",
       "      <th>Year</th>\n",
       "      <th>Month</th>\n",
       "      <th>Day</th>\n",
       "      <th>approxdate</th>\n",
       "      <th>Extended</th>\n",
       "      <th>resolution</th>\n",
       "      <th>country</th>\n",
       "      <th>Country</th>\n",
       "      <th>region</th>\n",
       "      <th>...</th>\n",
       "      <th>addnotes</th>\n",
       "      <th>scite1</th>\n",
       "      <th>scite2</th>\n",
       "      <th>scite3</th>\n",
       "      <th>dbsource</th>\n",
       "      <th>INT_LOG</th>\n",
       "      <th>INT_IDEO</th>\n",
       "      <th>INT_MISC</th>\n",
       "      <th>INT_ANY</th>\n",
       "      <th>related</th>\n",
       "    </tr>\n",
       "  </thead>\n",
       "  <tbody>\n",
       "  </tbody>\n",
       "</table>\n",
       "<p>0 rows × 135 columns</p>\n",
       "</div>"
      ],
      "text/plain": [
       "Empty DataFrame\n",
       "Columns: [eventid, Year, Month, Day, approxdate, Extended, resolution, country, Country, region, Region, State, city, latitude, longitude, specificity, vicinity, location, Summary, crit1, crit2, crit3, doubtterr, alternative, alternative_txt, multiple, success, suicide, attacktype1, AttackType, attacktype2, attacktype2_txt, attacktype3, attacktype3_txt, targtype1, TargetType, targsubtype1, targsubtype1_txt, corp1, Target, natlty1, natlty1_txt, targtype2, targtype2_txt, targsubtype2, targsubtype2_txt, corp2, target2, natlty2, natlty2_txt, targtype3, targtype3_txt, targsubtype3, targsubtype3_txt, corp3, target3, natlty3, natlty3_txt, Group, gsubname, gname2, gsubname2, gname3, gsubname3, Motive, guncertain1, guncertain2, guncertain3, individual, nperps, nperpcap, claimed, claimmode, claimmode_txt, claim2, claimmode2, claimmode2_txt, claim3, claimmode3, claimmode3_txt, compclaim, weaptype1, Weapon_type, weapsubtype1, weapsubtype1_txt, weaptype2, weaptype2_txt, weapsubtype2, weapsubtype2_txt, weaptype3, weaptype3_txt, weapsubtype3, weapsubtype3_txt, weaptype4, weaptype4_txt, weapsubtype4, weapsubtype4_txt, weapdetail, Killed, nkillus, ...]\n",
       "Index: []\n",
       "\n",
       "[0 rows x 135 columns]"
      ]
     },
     "execution_count": 12,
     "metadata": {},
     "output_type": "execute_result"
    }
   ],
   "source": [
    "# remove all the rows that contain a missing value\n",
    "df.dropna()"
   ]
  },
  {
   "cell_type": "code",
   "execution_count": 14,
   "metadata": {},
   "outputs": [
    {
     "data": {
      "text/html": [
       "<div>\n",
       "<style scoped>\n",
       "    .dataframe tbody tr th:only-of-type {\n",
       "        vertical-align: middle;\n",
       "    }\n",
       "\n",
       "    .dataframe tbody tr th {\n",
       "        vertical-align: top;\n",
       "    }\n",
       "\n",
       "    .dataframe thead th {\n",
       "        text-align: right;\n",
       "    }\n",
       "</style>\n",
       "<table border=\"1\" class=\"dataframe\">\n",
       "  <thead>\n",
       "    <tr style=\"text-align: right;\">\n",
       "      <th></th>\n",
       "      <th>eventid</th>\n",
       "      <th>Year</th>\n",
       "      <th>Month</th>\n",
       "      <th>Day</th>\n",
       "      <th>Extended</th>\n",
       "      <th>country</th>\n",
       "      <th>Country</th>\n",
       "      <th>region</th>\n",
       "      <th>Region</th>\n",
       "      <th>vicinity</th>\n",
       "      <th>...</th>\n",
       "      <th>Group</th>\n",
       "      <th>individual</th>\n",
       "      <th>weaptype1</th>\n",
       "      <th>Weapon_type</th>\n",
       "      <th>property</th>\n",
       "      <th>dbsource</th>\n",
       "      <th>INT_LOG</th>\n",
       "      <th>INT_IDEO</th>\n",
       "      <th>INT_MISC</th>\n",
       "      <th>INT_ANY</th>\n",
       "    </tr>\n",
       "  </thead>\n",
       "  <tbody>\n",
       "    <tr>\n",
       "      <th>0</th>\n",
       "      <td>197000000001</td>\n",
       "      <td>1970</td>\n",
       "      <td>7</td>\n",
       "      <td>2</td>\n",
       "      <td>0</td>\n",
       "      <td>58</td>\n",
       "      <td>Dominican Republic</td>\n",
       "      <td>2</td>\n",
       "      <td>Central America &amp; Caribbean</td>\n",
       "      <td>0</td>\n",
       "      <td>...</td>\n",
       "      <td>MANO-D</td>\n",
       "      <td>0</td>\n",
       "      <td>13</td>\n",
       "      <td>Unknown</td>\n",
       "      <td>0</td>\n",
       "      <td>PGIS</td>\n",
       "      <td>0</td>\n",
       "      <td>0</td>\n",
       "      <td>0</td>\n",
       "      <td>0</td>\n",
       "    </tr>\n",
       "    <tr>\n",
       "      <th>1</th>\n",
       "      <td>197000000002</td>\n",
       "      <td>1970</td>\n",
       "      <td>0</td>\n",
       "      <td>0</td>\n",
       "      <td>0</td>\n",
       "      <td>130</td>\n",
       "      <td>Mexico</td>\n",
       "      <td>1</td>\n",
       "      <td>North America</td>\n",
       "      <td>0</td>\n",
       "      <td>...</td>\n",
       "      <td>23rd of September Communist League</td>\n",
       "      <td>0</td>\n",
       "      <td>13</td>\n",
       "      <td>Unknown</td>\n",
       "      <td>0</td>\n",
       "      <td>PGIS</td>\n",
       "      <td>0</td>\n",
       "      <td>1</td>\n",
       "      <td>1</td>\n",
       "      <td>1</td>\n",
       "    </tr>\n",
       "    <tr>\n",
       "      <th>2</th>\n",
       "      <td>197001000001</td>\n",
       "      <td>1970</td>\n",
       "      <td>1</td>\n",
       "      <td>0</td>\n",
       "      <td>0</td>\n",
       "      <td>160</td>\n",
       "      <td>Philippines</td>\n",
       "      <td>5</td>\n",
       "      <td>Southeast Asia</td>\n",
       "      <td>0</td>\n",
       "      <td>...</td>\n",
       "      <td>Unknown</td>\n",
       "      <td>0</td>\n",
       "      <td>13</td>\n",
       "      <td>Unknown</td>\n",
       "      <td>0</td>\n",
       "      <td>PGIS</td>\n",
       "      <td>-9</td>\n",
       "      <td>-9</td>\n",
       "      <td>1</td>\n",
       "      <td>1</td>\n",
       "    </tr>\n",
       "    <tr>\n",
       "      <th>3</th>\n",
       "      <td>197001000002</td>\n",
       "      <td>1970</td>\n",
       "      <td>1</td>\n",
       "      <td>0</td>\n",
       "      <td>0</td>\n",
       "      <td>78</td>\n",
       "      <td>Greece</td>\n",
       "      <td>8</td>\n",
       "      <td>Western Europe</td>\n",
       "      <td>0</td>\n",
       "      <td>...</td>\n",
       "      <td>Unknown</td>\n",
       "      <td>0</td>\n",
       "      <td>6</td>\n",
       "      <td>Explosives</td>\n",
       "      <td>1</td>\n",
       "      <td>PGIS</td>\n",
       "      <td>-9</td>\n",
       "      <td>-9</td>\n",
       "      <td>1</td>\n",
       "      <td>1</td>\n",
       "    </tr>\n",
       "    <tr>\n",
       "      <th>4</th>\n",
       "      <td>197001000003</td>\n",
       "      <td>1970</td>\n",
       "      <td>1</td>\n",
       "      <td>0</td>\n",
       "      <td>0</td>\n",
       "      <td>101</td>\n",
       "      <td>Japan</td>\n",
       "      <td>4</td>\n",
       "      <td>East Asia</td>\n",
       "      <td>0</td>\n",
       "      <td>...</td>\n",
       "      <td>Unknown</td>\n",
       "      <td>0</td>\n",
       "      <td>8</td>\n",
       "      <td>Incendiary</td>\n",
       "      <td>1</td>\n",
       "      <td>PGIS</td>\n",
       "      <td>-9</td>\n",
       "      <td>-9</td>\n",
       "      <td>1</td>\n",
       "      <td>1</td>\n",
       "    </tr>\n",
       "  </tbody>\n",
       "</table>\n",
       "<p>5 rows × 29 columns</p>\n",
       "</div>"
      ],
      "text/plain": [
       "        eventid  Year  Month  Day  Extended  country             Country  \\\n",
       "0  197000000001  1970      7    2         0       58  Dominican Republic   \n",
       "1  197000000002  1970      0    0         0      130              Mexico   \n",
       "2  197001000001  1970      1    0         0      160         Philippines   \n",
       "3  197001000002  1970      1    0         0       78              Greece   \n",
       "4  197001000003  1970      1    0         0      101               Japan   \n",
       "\n",
       "   region                       Region  vicinity  ...  \\\n",
       "0       2  Central America & Caribbean         0  ...   \n",
       "1       1                North America         0  ...   \n",
       "2       5               Southeast Asia         0  ...   \n",
       "3       8               Western Europe         0  ...   \n",
       "4       4                    East Asia         0  ...   \n",
       "\n",
       "                                Group  individual  weaptype1  Weapon_type  \\\n",
       "0                              MANO-D           0         13      Unknown   \n",
       "1  23rd of September Communist League           0         13      Unknown   \n",
       "2                             Unknown           0         13      Unknown   \n",
       "3                             Unknown           0          6   Explosives   \n",
       "4                             Unknown           0          8   Incendiary   \n",
       "\n",
       "   property  dbsource INT_LOG  INT_IDEO INT_MISC INT_ANY  \n",
       "0         0      PGIS       0         0        0       0  \n",
       "1         0      PGIS       0         1        1       1  \n",
       "2         0      PGIS      -9        -9        1       1  \n",
       "3         1      PGIS      -9        -9        1       1  \n",
       "4         1      PGIS      -9        -9        1       1  \n",
       "\n",
       "[5 rows x 29 columns]"
      ]
     },
     "execution_count": 14,
     "metadata": {},
     "output_type": "execute_result"
    }
   ],
   "source": [
    "# remove all columns with at least one missing value\n",
    "columns_with_na_dropped = df.dropna(axis=1)\n",
    "columns_with_na_dropped.head()"
   ]
  },
  {
   "cell_type": "code",
   "execution_count": 16,
   "metadata": {},
   "outputs": [
    {
     "name": "stdout",
     "output_type": "stream",
     "text": [
      "Columns in original dataset: 135 \n",
      "\n",
      "Columns with na's dropped: 29\n"
     ]
    }
   ],
   "source": [
    "# just how much data did we lose?\n",
    "print(\"Columns in original dataset: %d \\n\" % df.shape[1])\n",
    "print(\"Columns with na's dropped: %d\" % columns_with_na_dropped.shape[1])"
   ]
  },
  {
   "cell_type": "code",
   "execution_count": 17,
   "metadata": {},
   "outputs": [],
   "source": [
    "df=df[['Year','Month','Day','Country','State','Region','city','latitude','longitude','AttackType','Killed',\n",
    "               'Wounded','Target','Summary','Group','TargetType','Weapon_type','Motive']]\n",
    "df['Wounded'] = df['Wounded'].fillna(0).astype(int)\n",
    "df['Killed'] = df['Killed'].fillna(0).astype(int)"
   ]
  },
  {
   "cell_type": "code",
   "execution_count": 18,
   "metadata": {},
   "outputs": [
    {
     "data": {
      "text/plain": [
       "Year                0\n",
       "Month               0\n",
       "Day                 0\n",
       "Country             0\n",
       "State             421\n",
       "Region              0\n",
       "city              434\n",
       "latitude         4556\n",
       "longitude        4557\n",
       "AttackType          0\n",
       "Killed              0\n",
       "Wounded             0\n",
       "Target            636\n",
       "Summary         66129\n",
       "Group               0\n",
       "TargetType          0\n",
       "Weapon_type         0\n",
       "Motive         131130\n",
       "dtype: int64"
      ]
     },
     "execution_count": 18,
     "metadata": {},
     "output_type": "execute_result"
    }
   ],
   "source": [
    "df.isnull().sum()"
   ]
  },
  {
   "cell_type": "markdown",
   "metadata": {},
   "source": [
    "## Data Insights"
   ]
  },
  {
   "cell_type": "code",
   "execution_count": 19,
   "metadata": {},
   "outputs": [
    {
     "name": "stdout",
     "output_type": "stream",
     "text": [
      "Country with the most attacks: Iraq\n",
      "City with the most attacks: Baghdad\n"
     ]
    }
   ],
   "source": [
    "print('Country with the most attacks:',df['Country'].value_counts().idxmax())\n",
    "print('City with the most attacks:',df['city'].value_counts().index[1])"
   ]
  },
  {
   "cell_type": "code",
   "execution_count": 20,
   "metadata": {},
   "outputs": [
    {
     "name": "stdout",
     "output_type": "stream",
     "text": [
      "Region with the most attacks: Middle East & North Africa\n"
     ]
    }
   ],
   "source": [
    "print('Region with the most attacks:',df['Region'].value_counts().idxmax())"
   ]
  },
  {
   "cell_type": "code",
   "execution_count": 21,
   "metadata": {},
   "outputs": [
    {
     "data": {
      "image/png": "[encoded data removed]",
      "text/plain": [
       "<Figure size 1080x432 with 1 Axes>"
      ]
     },
     "metadata": {
      "needs_background": "light"
     },
     "output_type": "display_data"
    }
   ],
   "source": [
    "# Terrorist Activities each year\n",
    "plt.subplots(figsize=(15,6))\n",
    "sns.countplot('Year',data=df,palette='RdYlGn_r',edgecolor=sns.color_palette('prism',10))\n",
    "plt.xticks(rotation=90)\n",
    "plt.title('Number of Terrorist Activities Each Year')\n",
    "plt.show()"
   ]
  },
  {
   "cell_type": "code",
   "execution_count": 22,
   "metadata": {},
   "outputs": [
    {
     "data": {
      "image/png": "[encoded data removed]",
      "text/plain": [
       "<Figure size 720x360 with 1 Axes>"
      ]
     },
     "metadata": {
      "needs_background": "light"
     },
     "output_type": "display_data"
    }
   ],
   "source": [
    "plt.figure(figsize = (10,5))\n",
    "df.groupby(['Country'])['Killed'].sum().sort_values(ascending = False).head(15).plot(kind = 'bar', color = 'blue')\n",
    "\n",
    "plt.xticks(rotation=90)\n",
    "plt.ylabel(\"Killed\")\n",
    "plt.show()"
   ]
  },
  {
   "cell_type": "code",
   "execution_count": 23,
   "metadata": {},
   "outputs": [
    {
     "data": {
      "image/png": "[encoded data removed]",
      "text/plain": [
       "<Figure size 720x360 with 1 Axes>"
      ]
     },
     "metadata": {
      "needs_background": "light"
     },
     "output_type": "display_data"
    }
   ],
   "source": [
    "plt.figure(figsize = (10,5))\n",
    "df.groupby(['Country'])['Wounded'].sum().sort_values(ascending = False).head(15).plot(kind = 'bar', color = 'red')\n",
    "\n",
    "plt.xticks(rotation=90)\n",
    "plt.ylabel(\"Killed\")\n",
    "plt.show()"
   ]
  },
  {
   "cell_type": "code",
   "execution_count": 24,
   "metadata": {},
   "outputs": [
    {
     "data": {
      "image/png": "[encoded data removed]",
      "text/plain": [
       "<Figure size 720x360 with 1 Axes>"
      ]
     },
     "metadata": {
      "needs_background": "light"
     },
     "output_type": "display_data"
    }
   ],
   "source": [
    "plt.figure(figsize = (10,5))\n",
    "sns.barplot(x='Region',y='Killed',data=df)\n",
    "plt.xticks(rotation=90)\n",
    "plt.ylabel(\"Killed\")\n",
    "plt.show()"
   ]
  },
  {
   "cell_type": "code",
   "execution_count": 25,
   "metadata": {},
   "outputs": [
    {
     "data": {
      "image/png": "[encoded data removed]",
      "text/plain": [
       "<Figure size 720x360 with 1 Axes>"
      ]
     },
     "metadata": {
      "needs_background": "light"
     },
     "output_type": "display_data"
    }
   ],
   "source": [
    "plt.figure(figsize = (10,5))\n",
    "sns.barplot(x='Region',y='Wounded',data=df)\n",
    "plt.xticks(rotation=90)\n",
    "plt.ylabel(\"Wounded\")\n",
    "plt.show()"
   ]
  },
  {
   "cell_type": "code",
   "execution_count": 26,
   "metadata": {},
   "outputs": [
    {
     "data": {
      "image/png": "[encoded data removed]",
      "text/plain": [
       "<Figure size 1080x432 with 1 Axes>"
      ]
     },
     "metadata": {
      "needs_background": "light"
     },
     "output_type": "display_data"
    }
   ],
   "source": [
    "plt.subplots(figsize=(15,6))\n",
    "sns.countplot('AttackType',data=df,palette='winter',order=df['AttackType'].value_counts().index)\n",
    "plt.xticks(rotation=90)\n",
    "plt.title(\"Attacking methods by terrorists\")\n",
    "plt.show()"
   ]
  },
  {
   "cell_type": "code",
   "execution_count": 27,
   "metadata": {},
   "outputs": [
    {
     "data": {
      "image/png": "[encoded data removed]",
      "text/plain": [
       "<Figure size 1296x432 with 1 Axes>"
      ]
     },
     "metadata": {
      "needs_background": "light"
     },
     "output_type": "display_data"
    }
   ],
   "source": [
    "coun_terror=df['Country'].value_counts()[:15].to_frame()\n",
    "coun_terror.columns=['Attacks']\n",
    "coun_kill=df.groupby('Country')['Killed'].sum().to_frame()\n",
    "coun_terror.merge(coun_kill,left_index=True,right_index=True,how='left').plot.bar(width=0.9)\n",
    "fig=plt.gcf()\n",
    "fig.set_size_inches(18,6)\n",
    "plt.show()"
   ]
  },
  {
   "cell_type": "code",
   "execution_count": 28,
   "metadata": {},
   "outputs": [
    {
     "data": {
      "image/png": "[encoded data removed]",
      "text/plain": [
       "<Figure size 720x576 with 1 Axes>"
      ]
     },
     "metadata": {
      "needs_background": "light"
     },
     "output_type": "display_data"
    }
   ],
   "source": [
    "sns.barplot(df['Group'].value_counts()[1:15].values,df['Group'].value_counts()[1:15].index,palette=('inferno'))\n",
    "plt.xticks(rotation=90)\n",
    "fig=plt.gcf()\n",
    "fig.set_size_inches(10,8)\n",
    "plt.title('Terrorist Organisation with Highest Terror Attacks')\n",
    "plt.show()"
   ]
  },
  {
   "cell_type": "code",
   "execution_count": 29,
   "metadata": {},
   "outputs": [
    {
     "data": {
      "text/html": [
       "<div>\n",
       "<style scoped>\n",
       "    .dataframe tbody tr th:only-of-type {\n",
       "        vertical-align: middle;\n",
       "    }\n",
       "\n",
       "    .dataframe tbody tr th {\n",
       "        vertical-align: top;\n",
       "    }\n",
       "\n",
       "    .dataframe thead th {\n",
       "        text-align: right;\n",
       "    }\n",
       "</style>\n",
       "<table border=\"1\" class=\"dataframe\">\n",
       "  <thead>\n",
       "    <tr style=\"text-align: right;\">\n",
       "      <th></th>\n",
       "      <th>Year</th>\n",
       "      <th>Month</th>\n",
       "      <th>Day</th>\n",
       "      <th>Country</th>\n",
       "      <th>State</th>\n",
       "      <th>Region</th>\n",
       "      <th>city</th>\n",
       "      <th>latitude</th>\n",
       "      <th>longitude</th>\n",
       "      <th>AttackType</th>\n",
       "      <th>Killed</th>\n",
       "      <th>Wounded</th>\n",
       "      <th>Target</th>\n",
       "      <th>Summary</th>\n",
       "      <th>Group</th>\n",
       "      <th>TargetType</th>\n",
       "      <th>Weapon_type</th>\n",
       "      <th>Motive</th>\n",
       "    </tr>\n",
       "  </thead>\n",
       "  <tbody>\n",
       "    <tr>\n",
       "      <th>181681</th>\n",
       "      <td>2017</td>\n",
       "      <td>12</td>\n",
       "      <td>31</td>\n",
       "      <td>Philippines</td>\n",
       "      <td>Maguindanao</td>\n",
       "      <td>Southeast Asia</td>\n",
       "      <td>Shariff Aguak</td>\n",
       "      <td>6.862806</td>\n",
       "      <td>124.443649</td>\n",
       "      <td>Bombing/Explosion</td>\n",
       "      <td>1</td>\n",
       "      <td>5</td>\n",
       "      <td>Patrol</td>\n",
       "      <td>12/31/2017: A roadside bomb detonated targetin...</td>\n",
       "      <td>Bangsamoro Islamic Freedom Movement (BIFM)</td>\n",
       "      <td>Police</td>\n",
       "      <td>Explosives</td>\n",
       "      <td>NaN</td>\n",
       "    </tr>\n",
       "    <tr>\n",
       "      <th>181682</th>\n",
       "      <td>2017</td>\n",
       "      <td>12</td>\n",
       "      <td>31</td>\n",
       "      <td>Italy</td>\n",
       "      <td>Marche</td>\n",
       "      <td>Western Europe</td>\n",
       "      <td>Spinetoli</td>\n",
       "      <td>42.888982</td>\n",
       "      <td>13.772795</td>\n",
       "      <td>Facility/Infrastructure Attack</td>\n",
       "      <td>0</td>\n",
       "      <td>0</td>\n",
       "      <td>Migrant Center</td>\n",
       "      <td>12/31/2017: Assailants set fire to a migrants'...</td>\n",
       "      <td>Unknown</td>\n",
       "      <td>Private Citizens &amp; Property</td>\n",
       "      <td>Incendiary</td>\n",
       "      <td>The specific motive is unknown; however, sourc...</td>\n",
       "    </tr>\n",
       "    <tr>\n",
       "      <th>181683</th>\n",
       "      <td>2017</td>\n",
       "      <td>12</td>\n",
       "      <td>31</td>\n",
       "      <td>Afghanistan</td>\n",
       "      <td>Faryab</td>\n",
       "      <td>South Asia</td>\n",
       "      <td>Kohistan district</td>\n",
       "      <td>35.315467</td>\n",
       "      <td>64.815508</td>\n",
       "      <td>Armed Assault</td>\n",
       "      <td>6</td>\n",
       "      <td>0</td>\n",
       "      <td>House of Member</td>\n",
       "      <td>12/31/2017: Assailants attacked the house of a...</td>\n",
       "      <td>Taliban</td>\n",
       "      <td>Terrorists/Non-State Militia</td>\n",
       "      <td>Firearms</td>\n",
       "      <td>The specific motive is unknown; however, sourc...</td>\n",
       "    </tr>\n",
       "    <tr>\n",
       "      <th>181684</th>\n",
       "      <td>2017</td>\n",
       "      <td>12</td>\n",
       "      <td>31</td>\n",
       "      <td>India</td>\n",
       "      <td>Assam</td>\n",
       "      <td>South Asia</td>\n",
       "      <td>Hungrum</td>\n",
       "      <td>25.180162</td>\n",
       "      <td>93.015788</td>\n",
       "      <td>Hostage Taking (Kidnapping)</td>\n",
       "      <td>0</td>\n",
       "      <td>0</td>\n",
       "      <td>Personal Security Officer of Council Member Ih...</td>\n",
       "      <td>12/31/2017: Assailants abducted Prafulla Phuka...</td>\n",
       "      <td>Zeliangrong United Front</td>\n",
       "      <td>Government (General)</td>\n",
       "      <td>Firearms</td>\n",
       "      <td>NaN</td>\n",
       "    </tr>\n",
       "    <tr>\n",
       "      <th>181685</th>\n",
       "      <td>2017</td>\n",
       "      <td>12</td>\n",
       "      <td>31</td>\n",
       "      <td>Afghanistan</td>\n",
       "      <td>Faryab</td>\n",
       "      <td>South Asia</td>\n",
       "      <td>Maymana</td>\n",
       "      <td>35.921051</td>\n",
       "      <td>64.774544</td>\n",
       "      <td>Bombing/Explosion</td>\n",
       "      <td>0</td>\n",
       "      <td>4</td>\n",
       "      <td>Jewelry Shop</td>\n",
       "      <td>12/31/2017: An explosive device detonated at a...</td>\n",
       "      <td>Unknown</td>\n",
       "      <td>Business</td>\n",
       "      <td>Explosives</td>\n",
       "      <td>NaN</td>\n",
       "    </tr>\n",
       "    <tr>\n",
       "      <th>181686</th>\n",
       "      <td>2017</td>\n",
       "      <td>12</td>\n",
       "      <td>31</td>\n",
       "      <td>Somalia</td>\n",
       "      <td>Middle Shebelle</td>\n",
       "      <td>Sub-Saharan Africa</td>\n",
       "      <td>Ceelka Geelow</td>\n",
       "      <td>2.359673</td>\n",
       "      <td>45.385034</td>\n",
       "      <td>Armed Assault</td>\n",
       "      <td>1</td>\n",
       "      <td>2</td>\n",
       "      <td>Checkpoint</td>\n",
       "      <td>12/31/2017: Assailants opened fire on a Somali...</td>\n",
       "      <td>Al-Shabaab</td>\n",
       "      <td>Military</td>\n",
       "      <td>Firearms</td>\n",
       "      <td>NaN</td>\n",
       "    </tr>\n",
       "    <tr>\n",
       "      <th>181687</th>\n",
       "      <td>2017</td>\n",
       "      <td>12</td>\n",
       "      <td>31</td>\n",
       "      <td>Syria</td>\n",
       "      <td>Lattakia</td>\n",
       "      <td>Middle East &amp; North Africa</td>\n",
       "      <td>Jableh</td>\n",
       "      <td>35.407278</td>\n",
       "      <td>35.942679</td>\n",
       "      <td>Bombing/Explosion</td>\n",
       "      <td>2</td>\n",
       "      <td>7</td>\n",
       "      <td>Hmeymim Air Base</td>\n",
       "      <td>12/31/2017: Assailants launched mortars at the...</td>\n",
       "      <td>Muslim extremists</td>\n",
       "      <td>Military</td>\n",
       "      <td>Explosives</td>\n",
       "      <td>NaN</td>\n",
       "    </tr>\n",
       "    <tr>\n",
       "      <th>181688</th>\n",
       "      <td>2017</td>\n",
       "      <td>12</td>\n",
       "      <td>31</td>\n",
       "      <td>Philippines</td>\n",
       "      <td>Maguindanao</td>\n",
       "      <td>Southeast Asia</td>\n",
       "      <td>Kubentog</td>\n",
       "      <td>6.900742</td>\n",
       "      <td>124.437908</td>\n",
       "      <td>Facility/Infrastructure Attack</td>\n",
       "      <td>0</td>\n",
       "      <td>0</td>\n",
       "      <td>Houses</td>\n",
       "      <td>12/31/2017: Assailants set fire to houses in K...</td>\n",
       "      <td>Bangsamoro Islamic Freedom Movement (BIFM)</td>\n",
       "      <td>Private Citizens &amp; Property</td>\n",
       "      <td>Incendiary</td>\n",
       "      <td>NaN</td>\n",
       "    </tr>\n",
       "    <tr>\n",
       "      <th>181689</th>\n",
       "      <td>2017</td>\n",
       "      <td>12</td>\n",
       "      <td>31</td>\n",
       "      <td>India</td>\n",
       "      <td>Manipur</td>\n",
       "      <td>South Asia</td>\n",
       "      <td>Imphal</td>\n",
       "      <td>24.798346</td>\n",
       "      <td>93.940430</td>\n",
       "      <td>Bombing/Explosion</td>\n",
       "      <td>0</td>\n",
       "      <td>0</td>\n",
       "      <td>Office</td>\n",
       "      <td>12/31/2017: Assailants threw a grenade at a Fo...</td>\n",
       "      <td>Unknown</td>\n",
       "      <td>Government (General)</td>\n",
       "      <td>Explosives</td>\n",
       "      <td>NaN</td>\n",
       "    </tr>\n",
       "    <tr>\n",
       "      <th>181690</th>\n",
       "      <td>2017</td>\n",
       "      <td>12</td>\n",
       "      <td>31</td>\n",
       "      <td>Philippines</td>\n",
       "      <td>Maguindanao</td>\n",
       "      <td>Southeast Asia</td>\n",
       "      <td>Cotabato City</td>\n",
       "      <td>7.209594</td>\n",
       "      <td>124.241966</td>\n",
       "      <td>Bombing/Explosion</td>\n",
       "      <td>0</td>\n",
       "      <td>0</td>\n",
       "      <td>Unknown</td>\n",
       "      <td>12/31/2017: An explosive device was discovered...</td>\n",
       "      <td>Unknown</td>\n",
       "      <td>Unknown</td>\n",
       "      <td>Explosives</td>\n",
       "      <td>NaN</td>\n",
       "    </tr>\n",
       "  </tbody>\n",
       "</table>\n",
       "</div>"
      ],
      "text/plain": [
       "        Year  Month  Day      Country            State  \\\n",
       "181681  2017     12   31  Philippines      Maguindanao   \n",
       "181682  2017     12   31        Italy           Marche   \n",
       "181683  2017     12   31  Afghanistan           Faryab   \n",
       "181684  2017     12   31        India            Assam   \n",
       "181685  2017     12   31  Afghanistan           Faryab   \n",
       "181686  2017     12   31      Somalia  Middle Shebelle   \n",
       "181687  2017     12   31        Syria         Lattakia   \n",
       "181688  2017     12   31  Philippines      Maguindanao   \n",
       "181689  2017     12   31        India          Manipur   \n",
       "181690  2017     12   31  Philippines      Maguindanao   \n",
       "\n",
       "                            Region               city   latitude   longitude  \\\n",
       "181681              Southeast Asia      Shariff Aguak   6.862806  124.443649   \n",
       "181682              Western Europe          Spinetoli  42.888982   13.772795   \n",
       "181683                  South Asia  Kohistan district  35.315467   64.815508   \n",
       "181684                  South Asia            Hungrum  25.180162   93.015788   \n",
       "181685                  South Asia            Maymana  35.921051   64.774544   \n",
       "181686          Sub-Saharan Africa      Ceelka Geelow   2.359673   45.385034   \n",
       "181687  Middle East & North Africa             Jableh  35.407278   35.942679   \n",
       "181688              Southeast Asia           Kubentog   6.900742  124.437908   \n",
       "181689                  South Asia             Imphal  24.798346   93.940430   \n",
       "181690              Southeast Asia      Cotabato City   7.209594  124.241966   \n",
       "\n",
       "                            AttackType  Killed  Wounded  \\\n",
       "181681               Bombing/Explosion       1        5   \n",
       "181682  Facility/Infrastructure Attack       0        0   \n",
       "181683                   Armed Assault       6        0   \n",
       "181684     Hostage Taking (Kidnapping)       0        0   \n",
       "181685               Bombing/Explosion       0        4   \n",
       "181686                   Armed Assault       1        2   \n",
       "181687               Bombing/Explosion       2        7   \n",
       "181688  Facility/Infrastructure Attack       0        0   \n",
       "181689               Bombing/Explosion       0        0   \n",
       "181690               Bombing/Explosion       0        0   \n",
       "\n",
       "                                                   Target  \\\n",
       "181681                                             Patrol   \n",
       "181682                                     Migrant Center   \n",
       "181683                                    House of Member   \n",
       "181684  Personal Security Officer of Council Member Ih...   \n",
       "181685                                       Jewelry Shop   \n",
       "181686                                         Checkpoint   \n",
       "181687                                   Hmeymim Air Base   \n",
       "181688                                             Houses   \n",
       "181689                                             Office   \n",
       "181690                                            Unknown   \n",
       "\n",
       "                                                  Summary  \\\n",
       "181681  12/31/2017: A roadside bomb detonated targetin...   \n",
       "181682  12/31/2017: Assailants set fire to a migrants'...   \n",
       "181683  12/31/2017: Assailants attacked the house of a...   \n",
       "181684  12/31/2017: Assailants abducted Prafulla Phuka...   \n",
       "181685  12/31/2017: An explosive device detonated at a...   \n",
       "181686  12/31/2017: Assailants opened fire on a Somali...   \n",
       "181687  12/31/2017: Assailants launched mortars at the...   \n",
       "181688  12/31/2017: Assailants set fire to houses in K...   \n",
       "181689  12/31/2017: Assailants threw a grenade at a Fo...   \n",
       "181690  12/31/2017: An explosive device was discovered...   \n",
       "\n",
       "                                             Group  \\\n",
       "181681  Bangsamoro Islamic Freedom Movement (BIFM)   \n",
       "181682                                     Unknown   \n",
       "181683                                     Taliban   \n",
       "181684                    Zeliangrong United Front   \n",
       "181685                                     Unknown   \n",
       "181686                                  Al-Shabaab   \n",
       "181687                           Muslim extremists   \n",
       "181688  Bangsamoro Islamic Freedom Movement (BIFM)   \n",
       "181689                                     Unknown   \n",
       "181690                                     Unknown   \n",
       "\n",
       "                          TargetType Weapon_type  \\\n",
       "181681                        Police  Explosives   \n",
       "181682   Private Citizens & Property  Incendiary   \n",
       "181683  Terrorists/Non-State Militia    Firearms   \n",
       "181684          Government (General)    Firearms   \n",
       "181685                      Business  Explosives   \n",
       "181686                      Military    Firearms   \n",
       "181687                      Military  Explosives   \n",
       "181688   Private Citizens & Property  Incendiary   \n",
       "181689          Government (General)  Explosives   \n",
       "181690                       Unknown  Explosives   \n",
       "\n",
       "                                                   Motive  \n",
       "181681                                                NaN  \n",
       "181682  The specific motive is unknown; however, sourc...  \n",
       "181683  The specific motive is unknown; however, sourc...  \n",
       "181684                                                NaN  \n",
       "181685                                                NaN  \n",
       "181686                                                NaN  \n",
       "181687                                                NaN  \n",
       "181688                                                NaN  \n",
       "181689                                                NaN  \n",
       "181690                                                NaN  "
      ]
     },
     "execution_count": 29,
     "metadata": {},
     "output_type": "execute_result"
    }
   ],
   "source": [
    "df.tail(10)"
   ]
  },
  {
   "cell_type": "markdown",
   "metadata": {},
   "source": [
    "## CONCLUSIONS :\n",
    "#### So after different type of analyzation ,Overall terrorism is suddenly increased from 2010 and I have ranked the Hot zone in terms of terrorist activities in all regions -\n",
    "\n",
    "#### #Middle East & North Africa\n",
    "#### Iraq\n",
    "\n",
    "#### Overall having highest Number of terrorist rate and sudden increase in terrorist activity after year 2010\n",
    "\n",
    "#### Libya\n",
    "\n",
    "#### Overall having low terrorism activity, Second Highest in terms of successful terrorist activities which takes place in this country and an increased in terrorism rate after 2010.\n",
    "\n",
    "#### Yemen\n",
    "\n",
    "#### Overall having low terrorism activity, Third Highest in terms of successful terrorist activities which takes place in this country and an increased in terrorism rate after 2010.\n",
    "\n",
    "### #South Asia\n",
    "#### Pakistan\n",
    "\n",
    "#### Overall having 1st highest terrorist rates but if we consider extended terrorist rate so this country is 2nd highest and a very high increase in terrorism rate after 2010.\n",
    "\n",
    "#### Afghanistan\n",
    "\n",
    "#### Overall having 2nd Highest terrorist rates and 1st highest in terms of extended terrorist rates and a very high increase in terrorism rate after 2010.\n",
    "\n",
    "#### India\n",
    "\n",
    "#### Overall having 3rd highest terrorist rates but there is a good decrease in terrorist rates if we consider the 20s century and an increase in terrorism rate after 2010 but not as that of increase like Afghanistan and Pakistan.\n",
    "\n",
    "### #Sub-Saharan Africa\n",
    "#### Nigeria\n",
    "\n",
    "#### Overall having low terrorism activity but 1st Highest in terms of extended terrorist activities which takes place in this country and 2nd in terms of increased of terrorism rate after 2010.\n",
    "\n",
    "#### Somalia\n",
    "\n",
    "#### Overall having low terrorism activity but 2nd Highest in terms of extended terrorist activities which takes place in this country and 1st in terms of increased of terrorism rate after 2010.\n",
    "\n",
    "#### Sudan\n",
    "\n",
    "#### Overall having low terrorism activity but 3rd Highest in terms of extended terrorist activities which takes place in this country and a bit increase in terrorism rate after 2010.\n",
    "\n",
    "### #Solution\n",
    "#### #More security surveillance required at Iraq.\n",
    "#### #Noticing the trends of terrorism activities , hugely populated regions suffer major kill ratios. This must be controlled with strict border rules\n",
    "\n",
    "#### #Impose strict rules in controlling the explosions produce worldwide limiting the number of supplies #High alert at densly populated locations in each city as it is noticed that terrorists target is private citizens and property"
   ]
  },
  {
   "cell_type": "code",
   "execution_count": null,
   "metadata": {},
   "outputs": [],
   "source": []
  }
 ],
 "metadata": {
  "kernelspec": {
   "display_name": "Python 3",
   "language": "python",
   "name": "python3"
  },
  "language_info": {
   "codemirror_mode": {
    "name": "ipython",
    "version": 3
   },
   "file_extension": ".py",
   "mimetype": "text/x-python",
   "name": "python",
   "nbconvert_exporter": "python",
   "pygments_lexer": "ipython3",
   "version": "3.8.2"
  }
 },
 "nbformat": 4,
 "nbformat_minor": 4
}
